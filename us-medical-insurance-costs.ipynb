{
 "cells": [
  {
   "cell_type": "markdown",
   "metadata": {
    "slideshow": {
     "slide_type": "-"
    }
   },
   "source": [
    "# U.S. Medical Insurance Costs"
   ]
  },
  {
   "cell_type": "markdown",
   "metadata": {},
   "source": [
    "Welcome to my US Medical Insurance Costs Data Analysis project! I will be analysing data from a csv to better understand the information given. Here are some of my goals:\n",
    "\n",
    "- Show basic breakdown of data given:\n",
    "    - Average age\n",
    "    - Percentage of data that is male vs female\n",
    "    - Average BMI\n",
    "    - Number of people w/ children vs. people w/o children & avg number of children\n",
    "    - % of individuals who are smokers\n",
    "    - Regional breakdown of respondants\n",
    "    - Average cost\n",
    "- Difference between avg costs regionally\n",
    "- Show the difference between avg cost of non-smoker vs smoker\n",
    "- Show the difference between avg male and avg female"
   ]
  },
  {
   "cell_type": "markdown",
   "metadata": {},
   "source": [
    "In this first block, we are going to be cleaning some of the data, because we have some strings, that will not be helpful for analysing data based on sex. We will be giving each sex a numerical value, \"female = 0\" and \"male = 1\"."
   ]
  },
  {
   "cell_type": "code",
   "execution_count": 1,
   "metadata": {},
   "outputs": [],
   "source": [
    "import csv"
   ]
  },
  {
   "cell_type": "code",
   "execution_count": 2,
   "metadata": {},
   "outputs": [],
   "source": [
    "with open(\"insurance.csv\") as insurance_csv, open(\"insurance_updated.csv\", \"w\") as insurance_csv_writer:\n",
    "    reader = csv.reader(insurance_csv)\n",
    "    writer = csv.writer(insurance_csv_writer)\n",
    "    for row in reader:\n",
    "        #print(row[1])\n",
    "        if row[1] == \"female\":\n",
    "            row[1] = 0\n",
    "        if row[1] == 'male':\n",
    "            row[1] = 1\n",
    "        writer.writerow(row)"
   ]
  },
  {
   "cell_type": "markdown",
   "metadata": {},
   "source": [
    "Great. The data has been cleaned and save to a new csv file that we called \"insurance_updated.csv\"! Woohoo! Now, let's work on creating a basic breakdown of the given data."
   ]
  },
  {
   "cell_type": "markdown",
   "metadata": {},
   "source": [
    "# Basic Breakdown of Given Data"
   ]
  },
  {
   "cell_type": "code",
   "execution_count": 3,
   "metadata": {},
   "outputs": [],
   "source": [
    "###Average Age\n",
    "total_age = 0\n",
    "number_of_people = 0\n",
    "\n",
    "def age_average():\n",
    "    avg = total_age/number_of_people\n",
    "    print(\"The average age of the person included in our data is \" + str(avg) + ' years old.')\n",
    "\n",
    "with open(\"insurance_updated.csv\") as insurance_csv:\n",
    "    reader = csv.DictReader(insurance_csv)\n",
    "    for row in reader:\n",
    "        #print(row)\n",
    "        total_age += int(row['age'])\n",
    "        number_of_people += 1\n",
    "\n",
    "#age_average()"
   ]
  },
  {
   "cell_type": "code",
   "execution_count": 4,
   "metadata": {},
   "outputs": [],
   "source": [
    "###Percentage of data that is male vs female\n",
    "male = 0\n",
    "female = 0\n",
    "\n",
    "def percent_male():\n",
    "    percent = (male/(male + female))*100\n",
    "    print('Of the individuals in our data, ' + str(percent) + '% are male.')\n",
    "def percent_female():\n",
    "    percent = (female/(male + female))*100\n",
    "    print('Of the individuals in our data, ' + str(percent) + '% are female.')\n",
    "\n",
    "with open(\"insurance_updated.csv\") as insurance_csv:\n",
    "    reader = csv.DictReader(insurance_csv)\n",
    "    for row in reader:\n",
    "        if int(row['sex']) == 1:\n",
    "            male += 1\n",
    "        elif int(row['sex']) == 0:\n",
    "            female += 1\n",
    "\n",
    "#print(male, female)\n",
    "#percent_male()\n",
    "#percent_female()"
   ]
  },
  {
   "cell_type": "code",
   "execution_count": 5,
   "metadata": {},
   "outputs": [],
   "source": [
    "###Average BMI\n",
    "total_bmi = 0\n",
    "total_people = 0\n",
    "average_bmi = 0\n",
    "\n",
    "def avg_bmi():\n",
    "    average_bmi = total_bmi/total_people\n",
    "    print('The average BMI is ' + str(average_bmi) +\".\")\n",
    "    \n",
    "with open(\"insurance_updated.csv\") as insurance_csv:\n",
    "    reader = csv.DictReader(insurance_csv)\n",
    "    for row in reader:\n",
    "        total_bmi += float(row['bmi'])\n",
    "        total_people += 1\n",
    "        \n",
    "#avg_bmi()"
   ]
  },
  {
   "cell_type": "code",
   "execution_count": 6,
   "metadata": {},
   "outputs": [],
   "source": [
    "###Number of people w/ children vs. people w/o children & avg number of children\n",
    "total_people = 0\n",
    "people_w_children = 0\n",
    "people_wo_children = 0\n",
    "children_in_families = 0\n",
    "avg_num_of_children_in_familiess = 0\n",
    "\n",
    "with open(\"insurance_updated.csv\") as insurance_csv:\n",
    "    reader = csv.DictReader(insurance_csv)\n",
    "    for row in reader:\n",
    "        total_people += 1\n",
    "        if int(row['children']) > 0:\n",
    "            people_w_children += 1\n",
    "            children_in_families += int(row['children'])\n",
    "        if int(row['children']) == 0:\n",
    "            people_wo_children += 1\n",
    "\n",
    "def avg_num_of_children_in_families():\n",
    "    return children_in_families/people_w_children\n",
    "def family_statistics():\n",
    "    print('The total number of individuals who have children is ' + str(people_w_children) +\".\")\n",
    "    print('The total number of individuals who don\\'t have children is ' + str(people_wo_children) +\".\")\n",
    "    print('The average number of chilren in a family is ' + str(avg_num_of_children_in_familiess) +\".\")\n",
    "    \n",
    "avg_num_of_children_in_familiess = avg_num_of_children_in_families()\n",
    "#family_statistics()"
   ]
  },
  {
   "cell_type": "code",
   "execution_count": 7,
   "metadata": {},
   "outputs": [],
   "source": [
    "###% of individuals who are smokers\n",
    "total_people = 0\n",
    "smokers = 0\n",
    "percent_smokers = 0\n",
    "\n",
    "with open(\"insurance_updated.csv\") as insurance_csv:\n",
    "    reader = csv.DictReader(insurance_csv)\n",
    "    for row in reader:\n",
    "        total_people += 1\n",
    "        if row['smoker'] == 'yes':\n",
    "            smokers += 1\n",
    "\n",
    "percent_smokers = smokers/total_people*100\n",
    "\n",
    "def smoker_statistics():\n",
    "    print('Out of the '+ str(total_people) + ' in our data, ' + str(smokers) + ' or ' + str(percent_smokers) + '% of people are smokers.')\n",
    "\n",
    "#smoker_statistics()"
   ]
  },
  {
   "cell_type": "code",
   "execution_count": 8,
   "metadata": {},
   "outputs": [],
   "source": [
    "###Average Insurance Cost\n",
    "total_people = 0\n",
    "total_cost = 0\n",
    "average_cost = 0\n",
    "\n",
    "with open(\"insurance_updated.csv\") as insurance_csv:\n",
    "    reader = csv.DictReader(insurance_csv)\n",
    "    for row in reader:\n",
    "        total_people += 1\n",
    "        total_cost += float(row['charges'])\n",
    "\n",
    "average_cost = total_cost/total_people\n",
    "def average_cost_stats():\n",
    "    print('The averarge cost per insured individual per year is $' + str(average_cost) + ' .')"
   ]
  },
  {
   "cell_type": "code",
   "execution_count": 9,
   "metadata": {},
   "outputs": [
    {
     "name": "stdout",
     "output_type": "stream",
     "text": [
      "The average age of the person included in our data is 39.20702541106129 years old.\n",
      "Of the individuals in our data, 50.52316890881914% are male.\n",
      "Of the individuals in our data, 49.47683109118087% are female.\n",
      "The average BMI is 30.663396860986538.\n",
      "The total number of individuals who have children is 764.\n",
      "The total number of individuals who don't have children is 574.\n",
      "The average number of chilren in a family is 1.9175392670157068.\n",
      "Out of the 1338 in our data, 274 or 20.47832585949178% of people are smokers.\n",
      "The averarge cost per insured individual per year is $13270.422265141257 .\n"
     ]
    }
   ],
   "source": [
    "age_average()\n",
    "percent_male()\n",
    "percent_female()\n",
    "avg_bmi()\n",
    "family_statistics()\n",
    "smoker_statistics()\n",
    "average_cost_stats()"
   ]
  },
  {
   "cell_type": "markdown",
   "metadata": {},
   "source": [
    "# Difference Between Average Costs (Regionally)"
   ]
  },
  {
   "cell_type": "code",
   "execution_count": 10,
   "metadata": {
    "scrolled": false
   },
   "outputs": [
    {
     "data": {
      "image/png": "[encoded data removed]",
      "text/plain": [
       "<Figure size 640x480 with 1 Axes>"
      ]
     },
     "metadata": {},
     "output_type": "display_data"
    }
   ],
   "source": [
    "###Regional breakdown of respondants\n",
    "total_northeast = 0\n",
    "total_northwest = 0\n",
    "total_southeast = 0 \n",
    "total_southwest = 0\n",
    "\n",
    "with open(\"insurance_updated.csv\") as insurance_csv:\n",
    "    reader = csv.DictReader(insurance_csv)\n",
    "    for row in reader:\n",
    "        if row['region'] == 'northeast':\n",
    "            total_northeast += 1\n",
    "        if row['region'] == 'northwest':\n",
    "            total_northwest += 1\n",
    "        if row['region'] == 'southeast':\n",
    "            total_southeast += 1\n",
    "        if row['region'] == 'southwest':\n",
    "            total_southwest += 1\n",
    "\n",
    "import matplotlib.pyplot as plt; plt.rcdefaults()\n",
    "import numpy as np\n",
    "import matplotlib.pyplot as plt\n",
    "\n",
    "objects = ('North East', 'North West', 'South East', 'South West')\n",
    "y_pos = np.arange(len(objects))\n",
    "color = 'g'\n",
    "performance = [total_northeast, total_northwest, total_southeast, total_southwest]\n",
    "\n",
    "plt.bar(y_pos, performance, align='center', alpha=0.5, color = 'g')\n",
    "plt.xticks(y_pos, objects)\n",
    "plt.ylabel('Number of People')\n",
    "plt.title('Regional Breakdown of Insured Individuals')\n",
    "\n",
    "plt.show()"
   ]
  },
  {
   "cell_type": "markdown",
   "metadata": {},
   "source": [
    "# Regional Breakdown of Insurance Cost"
   ]
  },
  {
   "cell_type": "code",
   "execution_count": 11,
   "metadata": {},
   "outputs": [
    {
     "data": {
      "image/png": "[encoded data removed]",
      "text/plain": [
       "<Figure size 640x480 with 1 Axes>"
      ]
     },
     "metadata": {},
     "output_type": "display_data"
    },
    {
     "name": "stdout",
     "output_type": "stream",
     "text": [
      "The average cost for insurance in the North East USA is $13406.3845163858.\n",
      "The average cost for insurance in the North West USA is $12417.575373969228.\n",
      "The average cost for insurance in the South East USA is $14735.411437609895.\n",
      "The average cost for insurance in the South East USA is $14735.411437609895.\n"
     ]
    }
   ],
   "source": [
    "###Difference between avg costs regionally\n",
    "\n",
    "def regional_cost(region):\n",
    "    total_people = 0\n",
    "    total_cost = 0\n",
    "    average_cost = 0\n",
    "\n",
    "    with open(\"insurance_updated.csv\") as insurance_csv:\n",
    "        reader = csv.DictReader(insurance_csv)\n",
    "        for row in reader:\n",
    "            if row['region'] == region:\n",
    "                total_people += 1\n",
    "                total_cost += float(row['charges'])\n",
    "\n",
    "    average_cost = total_cost/total_people\n",
    "    return average_cost\n",
    "\n",
    "def regional_cost_stats():\n",
    "    print(\"The average cost for insurance in the North East USA is $\" + str(regional_cost('northeast')) + \".\")\n",
    "    print(\"The average cost for insurance in the North West USA is $\" + str(regional_cost('northwest')) + \".\")\n",
    "    print(\"The average cost for insurance in the South East USA is $\" + str(regional_cost('southeast')) + \".\")\n",
    "    print(\"The average cost for insurance in the South East USA is $\" + str(regional_cost('southeast')) + \".\")\n",
    "\n",
    "\n",
    "\n",
    "import matplotlib.pyplot as plt; plt.rcdefaults()\n",
    "import numpy as np\n",
    "import matplotlib.pyplot as plt\n",
    "\n",
    "objects = ('North East', 'North West', 'South East', 'South West')\n",
    "y_pos = np.arange(len(objects))\n",
    "performance = [regional_cost('northeast'), regional_cost('northwest'), regional_cost('southeast'), regional_cost('southwest')]\n",
    "\n",
    "plt.bar(y_pos, performance, align='center', alpha=0.5, color = 'r')\n",
    "plt.xticks(y_pos, objects)\n",
    "plt.ylabel('Cost in Dollars')\n",
    "plt.title('Regional Breakdown of Insured Individuals')\n",
    "\n",
    "\n",
    "plt.show()\n",
    "regional_cost_stats()"
   ]
  },
  {
   "cell_type": "markdown",
   "metadata": {},
   "source": [
    "# Additional Analysis"
   ]
  },
  {
   "cell_type": "code",
   "execution_count": 12,
   "metadata": {},
   "outputs": [
    {
     "name": "stdout",
     "output_type": "stream",
     "text": [
      "The difference between the average smoker and non-smoker is $23615.96353367665.\n"
     ]
    }
   ],
   "source": [
    "###Show the difference between avg cost of non-smoker vs smoker\n",
    "\n",
    "total_smokers = 0\n",
    "total_non_smokers = 0\n",
    "total_cost_smokers = 0\n",
    "total_cost_non_smokers = 0\n",
    "\n",
    "with open('insurance_updated.csv') as insurance_csv:\n",
    "    reader = csv.DictReader(insurance_csv)\n",
    "    for row in reader:\n",
    "        if row['smoker'] == 'yes':\n",
    "            total_smokers += 1\n",
    "            total_cost_smokers += float(row['charges'])\n",
    "        if row['smoker'] == 'no':\n",
    "            total_non_smokers += 1\n",
    "            total_cost_non_smokers += float(row['charges'])\n",
    "\n",
    "avg_cost_smoker = total_cost_smokers/total_smokers\n",
    "avg_cost_non_smoker = total_cost_non_smokers/total_non_smokers\n",
    "cost_diff = avg_cost_smoker - avg_cost_non_smoker\n",
    "\n",
    "#print(total_smokers, total_non_smokers, total_cost_smokers, total_cost_non_smokers, avg_cost_smoker, avg_cost_non_smoker)\n",
    "def avg_smoker_price_difference():\n",
    "    print(\"The difference between the average smoker and non-smoker is $\" + str(cost_diff) +'.')\n",
    "\n",
    "avg_smoker_price_difference()"
   ]
  },
  {
   "cell_type": "code",
   "execution_count": 13,
   "metadata": {},
   "outputs": [
    {
     "name": "stdout",
     "output_type": "stream",
     "text": [
      "The difference between the average male and female is $1387.1723338865468.\n"
     ]
    }
   ],
   "source": [
    "###Show the difference between avg male and avg female\n",
    "\n",
    "total_male = 0\n",
    "total_female = 0\n",
    "total_cost_male = 0\n",
    "total_cost_female = 0\n",
    "\n",
    "with open('insurance_updated.csv') as insurance_csv:\n",
    "    reader = csv.DictReader(insurance_csv)\n",
    "    for row in reader:\n",
    "        if row['sex'] == '0':\n",
    "            total_female += 1\n",
    "            total_cost_female += float(row['charges'])\n",
    "        if row['sex'] == '1':\n",
    "            total_male += 1\n",
    "            total_cost_male += float(row['charges'])\n",
    "\n",
    "avg_cost_male = total_cost_male/total_male\n",
    "avg_cost_female = total_cost_female/total_female\n",
    "cost_diff_male_female = avg_cost_male - avg_cost_female\n",
    "\n",
    "#print(total_smokers, total_non_smokers, total_cost_smokers, total_cost_non_smokers, avg_cost_smoker, avg_cost_non_smoker)\n",
    "def avg_sex_difference():\n",
    "    print(\"The difference between the average male and female is $\" + str(cost_diff_male_female) +'.')\n",
    "\n",
    "avg_sex_difference()"
   ]
  },
  {
   "cell_type": "code",
   "execution_count": null,
   "metadata": {},
   "outputs": [],
   "source": []
  }
 ],
 "metadata": {
  "kernelspec": {
   "display_name": "Python 3",
   "language": "python",
   "name": "python3"
  },
  "language_info": {
   "codemirror_mode": {
    "name": "ipython",
    "version": 3
   },
   "file_extension": ".py",
   "mimetype": "text/x-python",
   "name": "python",
   "nbconvert_exporter": "python",
   "pygments_lexer": "ipython3",
   "version": "3.8.5"
  }
 },
 "nbformat": 4,
 "nbformat_minor": 4
}
